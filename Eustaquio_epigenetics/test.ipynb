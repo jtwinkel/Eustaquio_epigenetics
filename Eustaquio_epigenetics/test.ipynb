{
 "cells": [
  {
   "cell_type": "code",
   "execution_count": 1,
   "metadata": {},
   "outputs": [
    {
     "name": "stdout",
     "output_type": "stream",
     "text": [
      "hello\n"
     ]
    }
   ],
   "source": [
    "import pandas as pd\n",
    "from jw_utils import gene_profile as gpro\n",
    "from plotly import offline as pyo\n",
    "from plotly import graph_objects as go\n",
    "import numpy as np\n",
    "import os\n",
    "from scipy import ndimage as ndi\n",
    "from jw_utils import app_functions as afns\n",
    "from jw_utils import parse_gff as pgf\n",
    "from jw_utils import parse_fasta as pf\n",
    "from jw_utils import genome_utils as gu\n",
    "from jw_utils import parse_gbk as pgb\n",
    "from jw_utils import plotly_utils as pu\n",
    "from jw_utils import file_utils as fu\n",
    "from jw_utils import gene_profile as gp\n",
    "from Bio import SeqIO\n",
    "import bisect"
   ]
  },
  {
   "cell_type": "code",
   "execution_count": 15,
   "metadata": {},
   "outputs": [
    {
     "data": {
      "text/plain": [
       "'temp-plot.html'"
      ]
     },
     "execution_count": 15,
     "metadata": {},
     "output_type": "execute_result"
    }
   ],
   "source": [
    "y0 = np.full(50, 0)\n",
    "y1 = np.full(50, 1)\n",
    "y = np.concatenate([y0,y1])\n",
    "x = np.array(range(len(y)))\n",
    "t = ndi.convolve(y, [1,0,-1], mode='reflect')\n",
    "fig = pu.quick_line(x =x, y = t )\n",
    "data = pu.quick_line(x =x, y = y )['data'][0]\n",
    "fig = fig.add_trace(data)\n",
    "pyo.plot(fig)"
   ]
  },
  {
   "cell_type": "code",
   "execution_count": 2,
   "metadata": {},
   "outputs": [],
   "source": [
    "path_to_valcount_dir = './results/analysis/value_counts'\n",
    "path_to_annot_file = './data/references/Reference_FERM_BP3421.gbk'\n",
    "contig_names = ['BF000000.1','BF000000.2','BF000000.3','BF000000.4','BF000000.5']\n"
   ]
  },
  {
   "cell_type": "code",
   "execution_count": 3,
   "metadata": {},
   "outputs": [
    {
     "name": "stdout",
     "output_type": "stream",
     "text": [
      "./results/analysis/value_counts/BF000000.5_BAN_2_filtered.txt_val_cnts.csv\n",
      "./results/analysis/value_counts/BF000000.5_BAO_2_filtered.txt_val_cnts.csv\n",
      "./results/analysis/value_counts/BF000000.5_BAO_3_filtered.txt_val_cnts.csv\n",
      "./results/analysis/value_counts/BF000000.5_BAN_1_filtered.txt_val_cnts.csv\n",
      "./results/analysis/value_counts/BF000000.5_BAO_1_filtered.txt_val_cnts.csv\n",
      "./results/analysis/value_counts/BF000000.5_BAN_3_filtered.txt_val_cnts.csv\n"
     ]
    }
   ],
   "source": [
    "import processing as pr\n",
    "df = pr.get_read_sums(path_to_valcount_dir,'BF000000.5')\n",
    "tf_sums = gp.TssFinder(path_to_annot_file, val_counts_df=df, contig_name='BF000000.5')"
   ]
  },
  {
   "cell_type": "code",
   "execution_count": 16,
   "metadata": {},
   "outputs": [],
   "source": [
    "df_filled = tf_sums.fill_df()\n",
    "tss_win_dict = tf_sums.get_region_hits()"
   ]
  },
  {
   "cell_type": "code",
   "execution_count": 17,
   "metadata": {},
   "outputs": [],
   "source": [
    "t_df = tss_win_dict['tmp_006774']"
   ]
  },
  {
   "cell_type": "code",
   "execution_count": 40,
   "metadata": {},
   "outputs": [],
   "source": [
    "t = ndi.convolve(t_df, [-1,0,1], mode='reflect')"
   ]
  },
  {
   "cell_type": "code",
   "execution_count": 33,
   "metadata": {},
   "outputs": [],
   "source": []
  },
  {
   "cell_type": "code",
   "execution_count": 34,
   "metadata": {},
   "outputs": [],
   "source": []
  },
  {
   "cell_type": "code",
   "execution_count": 41,
   "metadata": {},
   "outputs": [
    {
     "data": {
      "text/plain": [
       "1157"
      ]
     },
     "execution_count": 41,
     "metadata": {},
     "output_type": "execute_result"
    }
   ],
   "source": [
    "t_df.index[0]"
   ]
  },
  {
   "cell_type": "code",
   "execution_count": 42,
   "metadata": {},
   "outputs": [],
   "source": [
    "pu.quick_bar(x = t_df.index, y = t_df)"
   ]
  },
  {
   "cell_type": "code",
   "execution_count": 43,
   "metadata": {},
   "outputs": [],
   "source": [
    "pu.quick_line(x =t_df.index, y = t )"
   ]
  },
  {
   "cell_type": "code",
   "execution_count": null,
   "metadata": {},
   "outputs": [],
   "source": []
  }
 ],
 "metadata": {
  "kernelspec": {
   "display_name": "Python 3.9.12 ('env')",
   "language": "python",
   "name": "python3"
  },
  "language_info": {
   "codemirror_mode": {
    "name": "ipython",
    "version": 3
   },
   "file_extension": ".py",
   "mimetype": "text/x-python",
   "name": "python",
   "nbconvert_exporter": "python",
   "pygments_lexer": "ipython3",
   "version": "3.9.12"
  },
  "orig_nbformat": 4,
  "vscode": {
   "interpreter": {
    "hash": "6691013dd57765de18105885afeee5e2162f23612599fe49b9f063fc824dadcf"
   }
  }
 },
 "nbformat": 4,
 "nbformat_minor": 2
}
